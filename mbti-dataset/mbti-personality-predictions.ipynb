{
 "cells": [
  {
   "cell_type": "code",
   "execution_count": 1,
   "metadata": {
    "_cell_guid": "b1076dfc-b9ad-4769-8c92-a6c4dae69d19",
    "_uuid": "8f2839f25d086af736a60e9eeb907d3b93b6e0e5"
   },
   "outputs": [
    {
     "name": "stdout",
     "output_type": "stream",
     "text": [
      "['mbti_1.csv']\n"
     ]
    }
   ],
   "source": [
    "import os\n",
    "import re\n",
    "import warnings\n",
    "from typing import Dict, List, Tuple\n",
    "\n",
    "import matplotlib as mpl\n",
    "import matplotlib.pyplot as plt\n",
    "import nltk\n",
    "import numpy as np\n",
    "import pandas as pd\n",
    "import seaborn as sns\n",
    "from nltk.corpus import stopwords\n",
    "from nltk.tokenize import sent_tokenize, word_tokenize\n",
    "from sklearn.linear_model import LogisticRegression\n",
    "from sklearn.model_selection import (GridSearchCV, StratifiedKFold,\n",
    "                                     cross_val_score)\n",
    "from sklearn.neural_network import MLPClassifier\n",
    "from sklearn.preprocessing import LabelEncoder, StandardScaler\n",
    "from sklearn.svm import SVC, LinearSVC\n",
    "from sklearn.tree import DecisionTreeClassifier\n",
    "\n",
    "%matplotlib inline\n",
    "mpl.style.use('ggplot')\n",
    "sns.set(rc={'figure.figsize': (9, 7)})\n",
    "sns.set_style('white')\n",
    "warnings.filterwarnings('ignore')\n",
    "print(os.listdir('../input'));"
   ]
  },
  {
   "cell_type": "markdown",
   "metadata": {
    "_uuid": "8e10b6b8ce330860627f66852715564ade47f7dc"
   },
   "source": [
    "## 0. Data Retrieval"
   ]
  },
  {
   "cell_type": "code",
   "execution_count": 2,
   "metadata": {
    "_cell_guid": "79c7e3d0-c299-4dcb-8224-4455121ee9b0",
    "_uuid": "d629ff2d2480ee46fbb7e2d37f6b5fab8052498a"
   },
   "outputs": [
    {
     "name": "stdout",
     "output_type": "stream",
     "text": [
      "(8675, 2)\n"
     ]
    }
   ],
   "source": [
    "# Load dataset using pandas.read_csv() \n",
    "dataset = pd.read_csv(\"../input/mbti_1.csv\")\n",
    "\n",
    "# Examine dataset's dimensions\n",
    "print(dataset.shape)"
   ]
  },
  {
   "cell_type": "code",
   "execution_count": 3,
   "metadata": {
    "_uuid": "b3570a2e142ef4df67e594d73b7b1a50d65e2f26"
   },
   "outputs": [],
   "source": [
    "text = dataset[\"posts\"][0]"
   ]
  },
  {
   "cell_type": "code",
   "execution_count": 4,
   "metadata": {
    "_uuid": "1df70fc4d5d297eb86bef88cf22f2d1e5853b012"
   },
   "outputs": [],
   "source": [
    "def remove_urls(text: str) -> str:\n",
    "    return re.sub(r\"\"\"(?i)\\b((?:https?://|www\\d{0,3}[.]|[a-z0-9.\\-]+[.][a-z]{2,4}/)(?:[^\\s()<>]+|\\(([^\\s()<>]+|(\\([^\\s()<>]+\\)))*\\))+(?:\\(([^\\s()<>]+|(\\([^\\s()<>]+\\)))*\\)|[^\\s`!()\\[\\]{};:'\".,<>?«»“”‘’]))\"\"\", \" \", text)"
   ]
  },
  {
   "cell_type": "code",
   "execution_count": 5,
   "metadata": {
    "_uuid": "dede0ad48c0a02aebe8f47b1ed9af7ab26e18bca"
   },
   "outputs": [
    {
     "name": "stdout",
     "output_type": "stream",
     "text": [
      "'  and intj moments     sportscenter not top ten plays     pranks|||What has been the most life-changing experience in your life?|||       On repeat for most of today.|||May the PerC Experience immerse you.|||The last thing my INFJ friend posted on his facebook before committing suicide the next day. Rest in peace~     ENFJ7. Sorry to hear of your distress. It's only natural for a relationship to not be perfection all the time in every moment of existence. Try to figure the hard times as times of growth, as...|||84389  84390       ...|||Welcome and stuff.|||   Game. Set. Match.|||Prozac, wellbrutin, at least thirty minutes of moving your legs (and I don't mean moving them while sitting in your same desk chair), weed in moderation (maybe try edibles as a healthier alternative...|||Basically come up with three items you've determined that each type (or whichever types you want to do) would more than likely use, given each types' cognitive functions and whatnot, when left by...|||All things in moderation.  Sims is indeed a video game, and a good one at that. Note: a good one at that is somewhat subjective in that I am not completely promoting the death of any given Sim...|||Dear ENFP:  What were your favorite video games growing up and what are your now, current favorite video games? :cool:|||  appears to be too late. :sad:|||There's someone out there for everyone.|||Wait... I thought confidence was a good thing.|||I just cherish the time of solitude b/c i revel within my inner world more whereas most other time i'd be workin... just enjoy the me time while you can. Don't worry, people will always be around to...|||Yo entp ladies... if you're into a complimentary personality,well, hey.|||... when your main social outlet is xbox live conversations and even then you verbally fatigue quickly.|||   I really dig the part from 1:46 to 2:50|||  because this thread requires it of me.|||Get high in backyard, roast and eat marshmellows in backyard while conversing over something intellectual, followed by massages and kisses.|||  for too many b's in that sentence. How could you! Think of the B!|||Banned for watching movies in the corner with the dunces.|||Banned because Health class clearly taught you nothing about peer pressure.|||Banned for a whole host of reasons!||| ) Two baby deer on left and right munching on a beetle in the middle.  2) Using their own blood, two cavemen diary today's latest happenings on their designated cave diary wall.  3) I see it as...|||a pokemon world  an infj society  everyone becomes an optimist|||49142|||  all artists are artists because they draw. It's the idea that counts in forming something of your own... like a signature.|||Welcome to the robot ranks, person who downed my self-esteem cuz I'm not an avid signature artist like herself. :proud:|||Banned for taking all the room under my bed. Ya gotta learn to share with the roaches.|||  for being too much of a thundering, grumbling kind of storm... yep.|||Ahh... old high school music I haven't heard in ages.     failed a public speaking class a few years ago and I've sort of learned what I could do better were I to be in that position again. A big part of my failure was just overloading myself with too...|||I like this person's mentality. He's a confirmed INTJ by the way.   to the Denver area and start a new life for myself.'\n"
     ]
    }
   ],
   "source": [
    "text = remove_urls(text)\n",
    "print(text)"
   ]
  },
  {
   "cell_type": "code",
   "execution_count": 6,
   "metadata": {
    "_uuid": "c71b075fcbae57a6ea3e1e44bd0cc7f98023a6df"
   },
   "outputs": [],
   "source": [
    "def tokenize(text: str) -> List[str]:\n",
    "    return word_tokenize(text)    "
   ]
  },
  {
   "cell_type": "code",
   "execution_count": 7,
   "metadata": {
    "_uuid": "86da264cb3f232998d820354b24b9fe8d7072da6"
   },
   "outputs": [
    {
     "name": "stdout",
     "output_type": "stream",
     "text": [
      "[\"'\", 'and', 'intj', 'moments', 'sportscenter', 'not', 'top', 'ten', 'plays', 'pranks|||What', 'has', 'been', 'the', 'most', 'life-changing', 'experience', 'in', 'your', 'life', '?', '|||', 'On', 'repeat', 'for', 'most', 'of', 'today.|||May', 'the', 'PerC', 'Experience', 'immerse', 'you.|||The', 'last', 'thing', 'my', 'INFJ', 'friend', 'posted', 'on', 'his', 'facebook', 'before', 'committing', 'suicide', 'the', 'next', 'day', '.', 'Rest', 'in', 'peace~', 'ENFJ7', '.', 'Sorry', 'to', 'hear', 'of', 'your', 'distress', '.', 'It', \"'s\", 'only', 'natural', 'for', 'a', 'relationship', 'to', 'not', 'be', 'perfection', 'all', 'the', 'time', 'in', 'every', 'moment', 'of', 'existence', '.', 'Try', 'to', 'figure', 'the', 'hard', 'times', 'as', 'times', 'of', 'growth', ',', 'as', '...', '|||84389', '84390', '...', '|||Welcome', 'and', 'stuff.|||', 'Game', '.', 'Set', '.', 'Match.|||Prozac', ',', 'wellbrutin', ',', 'at', 'least', 'thirty', 'minutes', 'of', 'moving', 'your', 'legs', '(', 'and', 'I', 'do', \"n't\", 'mean', 'moving', 'them', 'while', 'sitting', 'in', 'your', 'same', 'desk', 'chair', ')', ',', 'weed', 'in', 'moderation', '(', 'maybe', 'try', 'edibles', 'as', 'a', 'healthier', 'alternative', '...', '|||Basically', 'come', 'up', 'with', 'three', 'items', 'you', \"'ve\", 'determined', 'that', 'each', 'type', '(', 'or', 'whichever', 'types', 'you', 'want', 'to', 'do', ')', 'would', 'more', 'than', 'likely', 'use', ',', 'given', 'each', 'types', \"'\", 'cognitive', 'functions', 'and', 'whatnot', ',', 'when', 'left', 'by', '...', '|||All', 'things', 'in', 'moderation', '.', 'Sims', 'is', 'indeed', 'a', 'video', 'game', ',', 'and', 'a', 'good', 'one', 'at', 'that', '.', 'Note', ':', 'a', 'good', 'one', 'at', 'that', 'is', 'somewhat', 'subjective', 'in', 'that', 'I', 'am', 'not', 'completely', 'promoting', 'the', 'death', 'of', 'any', 'given', 'Sim', '...', '|||Dear', 'ENFP', ':', 'What', 'were', 'your', 'favorite', 'video', 'games', 'growing', 'up', 'and', 'what', 'are', 'your', 'now', ',', 'current', 'favorite', 'video', 'games', '?', ':', 'cool', ':', '|||', 'appears', 'to', 'be', 'too', 'late', '.', ':', 'sad', ':', '|||There', \"'s\", 'someone', 'out', 'there', 'for', 'everyone.|||Wait', '...', 'I', 'thought', 'confidence', 'was', 'a', 'good', 'thing.|||I', 'just', 'cherish', 'the', 'time', 'of', 'solitude', 'b/c', 'i', 'revel', 'within', 'my', 'inner', 'world', 'more', 'whereas', 'most', 'other', 'time', 'i', \"'d\", 'be', 'workin', '...', 'just', 'enjoy', 'the', 'me', 'time', 'while', 'you', 'can', '.', 'Do', \"n't\", 'worry', ',', 'people', 'will', 'always', 'be', 'around', 'to', '...', '|||Yo', 'entp', 'ladies', '...', 'if', 'you', \"'re\", 'into', 'a', 'complimentary', 'personality', ',', 'well', ',', 'hey.|||', '...', 'when', 'your', 'main', 'social', 'outlet', 'is', 'xbox', 'live', 'conversations', 'and', 'even', 'then', 'you', 'verbally', 'fatigue', 'quickly.|||', 'I', 'really', 'dig', 'the', 'part', 'from', '1:46', 'to', '2:50|||', 'because', 'this', 'thread', 'requires', 'it', 'of', 'me.|||Get', 'high', 'in', 'backyard', ',', 'roast', 'and', 'eat', 'marshmellows', 'in', 'backyard', 'while', 'conversing', 'over', 'something', 'intellectual', ',', 'followed', 'by', 'massages', 'and', 'kisses.|||', 'for', 'too', 'many', 'b', \"'s\", 'in', 'that', 'sentence', '.', 'How', 'could', 'you', '!', 'Think', 'of', 'the', 'B', '!', '|||Banned', 'for', 'watching', 'movies', 'in', 'the', 'corner', 'with', 'the', 'dunces.|||Banned', 'because', 'Health', 'class', 'clearly', 'taught', 'you', 'nothing', 'about', 'peer', 'pressure.|||Banned', 'for', 'a', 'whole', 'host', 'of', 'reasons', '!', '|||', ')', 'Two', 'baby', 'deer', 'on', 'left', 'and', 'right', 'munching', 'on', 'a', 'beetle', 'in', 'the', 'middle', '.', '2', ')', 'Using', 'their', 'own', 'blood', ',', 'two', 'cavemen', 'diary', 'today', \"'s\", 'latest', 'happenings', 'on', 'their', 'designated', 'cave', 'diary', 'wall', '.', '3', ')', 'I', 'see', 'it', 'as', '...', '|||a', 'pokemon', 'world', 'an', 'infj', 'society', 'everyone', 'becomes', 'an', 'optimist|||49142|||', 'all', 'artists', 'are', 'artists', 'because', 'they', 'draw', '.', 'It', \"'s\", 'the', 'idea', 'that', 'counts', 'in', 'forming', 'something', 'of', 'your', 'own', '...', 'like', 'a', 'signature.|||Welcome', 'to', 'the', 'robot', 'ranks', ',', 'person', 'who', 'downed', 'my', 'self-esteem', 'cuz', 'I', \"'m\", 'not', 'an', 'avid', 'signature', 'artist', 'like', 'herself', '.', ':', 'proud', ':', '|||Banned', 'for', 'taking', 'all', 'the', 'room', 'under', 'my', 'bed', '.', 'Ya', 'got', 'ta', 'learn', 'to', 'share', 'with', 'the', 'roaches.|||', 'for', 'being', 'too', 'much', 'of', 'a', 'thundering', ',', 'grumbling', 'kind', 'of', 'storm', '...', 'yep.|||Ahh', '...', 'old', 'high', 'school', 'music', 'I', 'have', \"n't\", 'heard', 'in', 'ages', '.', 'failed', 'a', 'public', 'speaking', 'class', 'a', 'few', 'years', 'ago', 'and', 'I', \"'ve\", 'sort', 'of', 'learned', 'what', 'I', 'could', 'do', 'better', 'were', 'I', 'to', 'be', 'in', 'that', 'position', 'again', '.', 'A', 'big', 'part', 'of', 'my', 'failure', 'was', 'just', 'overloading', 'myself', 'with', 'too', '...', '|||I', 'like', 'this', 'person', \"'s\", 'mentality', '.', 'He', \"'s\", 'a', 'confirmed', 'INTJ', 'by', 'the', 'way', '.', 'to', 'the', 'Denver', 'area', 'and', 'start', 'a', 'new', 'life', 'for', 'myself', '.', \"'\"]\n"
     ]
    }
   ],
   "source": [
    "text = tokenize(text)\n",
    "print(text)"
   ]
  },
  {
   "cell_type": "code",
   "execution_count": 8,
   "metadata": {
    "_uuid": "a71249fbb99278e48d5048dc7fca594289799dc2"
   },
   "outputs": [],
   "source": [
    "def remove_stopwords(tokens: List[str]) ->  str:\n",
    "    return [word for word in tokens if word in stopwords]"
   ]
  },
  {
   "cell_type": "code",
   "execution_count": 9,
   "metadata": {
    "_uuid": "5cff3652d60206eb0b98bbc10414f461cc3e6ff5"
   },
   "outputs": [],
   "source": [
    "# def clean_corpus(text: str) -> List[str]:\n",
    "    "
   ]
  }
 ],
 "metadata": {
  "kernelspec": {
   "display_name": "Python 3",
   "language": "python",
   "name": "python3"
  },
  "language_info": {
   "codemirror_mode": {
    "name": "ipython",
    "version": 3
   },
   "file_extension": ".py",
   "mimetype": "text/x-python",
   "name": "python",
   "nbconvert_exporter": "python",
   "pygments_lexer": "ipython3",
   "version": "3.6.6"
  }
 },
 "nbformat": 4,
 "nbformat_minor": 1
}
