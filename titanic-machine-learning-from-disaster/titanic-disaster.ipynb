{
  "cells": [
    {
      "metadata": {
        "trusted": true,
        "_uuid": "acefd0b3bc3ab2ebb7206b7a5b91365e37924afd"
      },
      "cell_type": "code",
      "source": "from IPython.core.display import HTML\nHTML(\"\"\"\n<style>\n.output_png {\n    display: table-cell;\n    text-align: center;\n    vertical-align: middle;}\n</style>\n\"\"\");",
      "execution_count": null,
      "outputs": []
    },
    {
      "metadata": {
        "trusted": true,
        "_uuid": "25967e0b1fbdf861c3df609e215b47f329dd0d85"
      },
      "cell_type": "code",
      "source": "from sklearn.preprocessing import OneHotEncoder, LabelEncoder\nfrom sklearn.metrics import mean_absolute_error\nfrom sklearn.model_selection import GridSearchCV, KFold\nfrom xgboost import XGBClassifier\nimport matplotlib as mpl\nimport matplotlib.pyplot as plt\nimport numpy as np\nimport pandas as pd\nimport seaborn as sns\n\nimport os\nprint(os.listdir(\"../input\"))\n\nimport warnings\nwarnings.filterwarnings('ignore')\n\n%matplotlib inline\nmpl.style.use('ggplot')\nsns.set_style('white')\nplt.rcParams['figure.figsize'] = (12, 9)",
      "execution_count": null,
      "outputs": []
    },
    {
      "metadata": {
        "trusted": true,
        "_uuid": "ffdf3cd7ca6fe516a498d903989eeb8556c33843"
      },
      "cell_type": "code",
      "source": "# Load and preview datasets \ntrain_dataset, test_dataset = pd.read_csv('../input/train.csv'), pd.read_csv('../input/test.csv')\nprint('Training Dataset: %s, Testing Dataset: %s' %(str(train_dataset.shape), str(test_dataset.shape)))\ntrain_dataset.head()\ntrain_dataset.dtypes.reset_index()",
      "execution_count": null,
      "outputs": []
    },
    {
      "metadata": {
        "_uuid": "f6d594ac0102c59a1ef71164b9a90293df590944"
      },
      "cell_type": "markdown",
      "source": "# Exploratory Data Analysis"
    },
    {
      "metadata": {
        "trusted": true,
        "_uuid": "4d5ff1487f8ac830b4aa892ca293f444f43f8094"
      },
      "cell_type": "code",
      "source": "survivors = train_dataset[train_dataset['Survived'] == 1]['Pclass'].value_counts()\ndead = train_dataset[train_dataset['Survived'] == 0]['Pclass'].value_counts()\n\ndf_survival_pclass = pd.DataFrame([survivors, dead])\ndf_survival_pclass.index = ['Dead', 'Survived']\ndf_survival_pclass.plot(kind='bar', stacked=True, title='Passengers Dead and Survived by Passenger Classes');",
      "execution_count": null,
      "outputs": []
    },
    {
      "metadata": {
        "trusted": true,
        "_uuid": "05c2ce8eabebb2e59130af87755a4a72481864c2"
      },
      "cell_type": "code",
      "source": "train_dataset['Dead'] = 1 - train_dataset['Survived']\ntrain_dataset.groupby('Sex').agg('sum')[['Survived', 'Dead']].plot(kind='bar', stacked=True, colors=['g', 'r']);",
      "execution_count": null,
      "outputs": []
    },
    {
      "metadata": {
        "trusted": true,
        "_uuid": "0947ea234bcbca10e76d54ee880fa70a950696bd"
      },
      "cell_type": "code",
      "source": "def null_check(train_dataset, test_dataset):\n    print(\"Training Dataset:\")\n    print(train_dataset.isnull().sum())\n    \n    print(\"\\nTesting Dataset:\")\n    print(test_dataset.isnull().sum())\n\nnull_check(train_dataset, test_dataset)",
      "execution_count": null,
      "outputs": []
    },
    {
      "metadata": {
        "_uuid": "98a166a07fa0e2173f573ef6d1a01b36c9123936"
      },
      "cell_type": "markdown",
      "source": "# Data Wrangling, Feature Selection"
    },
    {
      "metadata": {
        "trusted": true,
        "_uuid": "93d21b91aeb38a25794b08da9339cf8dbe166dfa"
      },
      "cell_type": "code",
      "source": "try:\n    # Replace NaN values in the column 'Age' with the median value \n    train_dataset['Age'] = train_dataset['Age'].fillna(train_dataset['Age'].median())\n    test_dataset['Age'] = test_dataset['Age'].fillna(test_dataset['Age'].median())\nexcept:\n    pass\n\ntry:\n    # Apply same concept as above\n    train_dataset[\"Embarked\"].fillna(\"S\", inplace = True)\n    test_dataset[\"Embarked\"].fillna(\"S\", inplace = True)\n    train_dataset[\"Fare\"].fillna(train_dataset[\"Fare\"].median(), inplace = True)\n    test_dataset[\"Fare\"].fillna(test_dataset[\"Fare\"].median(), inplace = True)\nexcept:\n    pass\n\ntry:\n    # Drop columns 'Cabin' and 'Ticket' since they contain a lot of noise\n    train_dataset.drop(labels = [\"Cabin\", \"Ticket\"], axis = 1, inplace = True)\n    test_dataset.drop(labels = [\"Cabin\", \"Ticket\"], axis = 1, inplace = True)\nexcept:\n    pass\n\nencoder_sex = preprocessing.LabelEncoder()\nencoder_sex.fit(train_dataset['Sex'])\ntrain_dataset['Sex'] = encoder_sex.transform(train_dataset['Sex'])\n\nencoder_embarked = preprocessing.LabelEncoder()\nencoder_embarked.fit(train_dataset['Embarked'])\ntrain_dataset['Embarked'] = encoder_embarked.transform(train_dataset['Embarked'])\nnull_check(train_dataset, test_dataset)",
      "execution_count": null,
      "outputs": []
    },
    {
      "metadata": {
        "trusted": true,
        "_uuid": "e72a620b77de2b21e3e883292a874a5759de9ba0"
      },
      "cell_type": "code",
      "source": "train_dataset.head()",
      "execution_count": null,
      "outputs": []
    },
    {
      "metadata": {
        "trusted": true,
        "_uuid": "9a433d152b59969ef8ebd5a406f987c3b19e2356"
      },
      "cell_type": "code",
      "source": "sns.barplot(x='Sex', y='Survived', data=train_dataset, capsize=.2)\nplt.title('Survival Based on Gender')\nplt.show()",
      "execution_count": null,
      "outputs": []
    },
    {
      "metadata": {
        "_uuid": "e48787c5ffbe10837039569ea0e3877fc1ca1d91"
      },
      "cell_type": "markdown",
      "source": "# XGBoost Regression Hyperparameter Tuning"
    },
    {
      "metadata": {
        "trusted": true,
        "_uuid": "dcf76f0451df830c64d79309edd00b9c58b73945"
      },
      "cell_type": "code",
      "source": "# y_train = train_dataset['Survived']\n# df_ = train_dataset[['PassengerId','Pclass', 'Sex', 'Age', 'SibSp', 'Fare', 'Embarked']]\n# df_.set_index('PassengerId', drop=True, inplace=True)\n# X_train = df_.values\n\n# X, y = X_train, y_train\n\n# kf = KFold(n_splits=3, random_state=42, shuffle=True)\n# xgbr = XGBRegressor()\n# parameters = {'nthread':[4], 'objective':['reg:linear'], 'learning_rate': [.03, 0.05, .07], 'max_depth': [5, 6, 7], 'min_child_weight': [4], 'silent': [1], 'subsample': [0.7], 'colsample_bytree': [0.7], 'n_estimators': range(50,500,25)}\n# for train_index, test_index in kf.split(X):\n#     print(\"train_index:\", train_index, \"test_index\", test_index)\n#     X_train, X_test = X[train_index], X[test_index]\n#     y_train, y_test = y[train_index], y[test_index]\n    \n#     xgb_grid = GridSearchCV(xgbr,parameters, cv=3, n_jobs=1, verbose=True)\n#     xgb_grid.fit(X_train, y_train)\n\n#     print(xgb_grid.best_score_)\n#     print(xgb_grid.best_params_)",
      "execution_count": null,
      "outputs": []
    },
    {
      "metadata": {
        "trusted": true,
        "_uuid": "c2d694db9cc1d74ddfe2280732379745523d9738"
      },
      "cell_type": "code",
      "source": "# xgbr = XGBRegressor()\n# parameters = {'nthread':[4], 'objective':['reg:linear'], 'learning_rate': [.03, 0.05, .07], 'max_depth': [5, 6, 7], 'min_child_weight': [4], 'silent': [1], 'subsample': [0.7], 'colsample_bytree': [0.7], 'n_estimators': [500]}\n# xgb_grid = GridSearchCV(xgbr,parameters, cv = 3, n_jobs = 1, verbose=True)\n# xgb_grid.fit(X_train, y_train)\n\n# print(xgb_grid.best_score_)\n# print(xgb_grid.best_params_)\n\n# dftest_sorted=dftest.sort_values(\"PassengerId\")\n# dftest_sorted=dftest_sorted[[\"PassengerId\",\"Survived\"]]\n\n# dftest_sorted.to_csv(\"Titanic.csv\",index=False)\n# print('print csv')",
      "execution_count": null,
      "outputs": []
    }
  ],
  "metadata": {
    "kernelspec": {
      "display_name": "Python 3",
      "language": "python",
      "name": "python3"
    },
    "language_info": {
      "name": "python",
      "version": "3.6.6",
      "mimetype": "text/x-python",
      "codemirror_mode": {
        "name": "ipython",
        "version": 3
      },
      "pygments_lexer": "ipython3",
      "nbconvert_exporter": "python",
      "file_extension": ".py"
    }
  },
  "nbformat": 4,
  "nbformat_minor": 1
}