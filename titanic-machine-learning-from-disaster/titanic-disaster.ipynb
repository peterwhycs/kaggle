{
 "cells": [
  {
   "cell_type": "markdown",
   "metadata": {
    "_uuid": "a8c31a41db6f191a4cc25f8e5c1838317d23ebd3"
   },
   "source": [
    "<center><h1>Titanic: Machine Learning from Disaster <i>(Solution Guide)</i></h1></center>"
   ]
  },
  {
   "cell_type": "code",
   "execution_count": 1,
   "metadata": {
    "_uuid": "ce26f1dcbb714017e4d35e07102db2970124c3b2"
   },
   "outputs": [],
   "source": [
    "import os\n",
    "import warnings\n",
    "\n",
    "import matplotlib as mpl\n",
    "import matplotlib.pyplot as plt\n",
    "import numpy as np\n",
    "import pandas as pd\n",
    "import seaborn as sns\n",
    "from sklearn.discriminant_analysis import LinearDiscriminantAnalysis\n",
    "from sklearn.ensemble import (AdaBoostClassifier, ExtraTreesClassifier,\n",
    "                              GradientBoostingClassifier,\n",
    "                              RandomForestClassifier, VotingClassifier)\n",
    "from sklearn.linear_model import LogisticRegression\n",
    "from sklearn.model_selection import (GridSearchCV, StratifiedKFold,\n",
    "                                     cross_val_score)\n",
    "from sklearn.neighbors import KNeighborsClassifier\n",
    "from sklearn.neural_network import MLPClassifier\n",
    "from sklearn.preprocessing import LabelEncoder, StandardScaler\n",
    "from sklearn.svm import SVC, LinearSVC\n",
    "from sklearn.tree import DecisionTreeClassifier\n",
    "\n",
    "%matplotlib inline\n",
    "mpl.style.use('ggplot')\n",
    "sns.set(rc={'figure.figsize': (9, 7)})\n",
    "sns.set_style('white')\n",
    "warnings.filterwarnings('ignore')\n",
    "# print(os.listdir('../input'));"
   ]
  },
  {
   "cell_type": "markdown",
   "metadata": {
    "_uuid": "73248c4282847cb9b483c454fd5e784a1c538f08"
   },
   "source": [
    "## 0. Data Retrieval"
   ]
  },
  {
   "cell_type": "markdown",
   "metadata": {
    "_uuid": "b864542fa7fa8d3f2b3a3f35a864a25dda69363c"
   },
   "source": [
    "### Load Datasets"
   ]
  },
  {
   "cell_type": "code",
   "execution_count": 2,
   "metadata": {
    "_uuid": "c6bc2375db6e34c18ea4f58f70338d585f49ce47"
   },
   "outputs": [
    {
     "name": "stdout",
     "output_type": "stream",
     "text": [
      "Training Dataset: (891, 12), Testing Dastaset: (418, 11)\n"
     ]
    },
    {
     "data": {
      "text/html": [
       "<div>\n",
       "<style scoped>\n",
       "    .dataframe tbody tr th:only-of-type {\n",
       "        vertical-align: middle;\n",
       "    }\n",
       "\n",
       "    .dataframe tbody tr th {\n",
       "        vertical-align: top;\n",
       "    }\n",
       "\n",
       "    .dataframe thead th {\n",
       "        text-align: right;\n",
       "    }\n",
       "</style>\n",
       "<table border=\"1\" class=\"dataframe\">\n",
       "  <thead>\n",
       "    <tr style=\"text-align: right;\">\n",
       "      <th></th>\n",
       "      <th>index</th>\n",
       "      <th>0</th>\n",
       "    </tr>\n",
       "  </thead>\n",
       "  <tbody>\n",
       "    <tr>\n",
       "      <th>0</th>\n",
       "      <td>PassengerId</td>\n",
       "      <td>int64</td>\n",
       "    </tr>\n",
       "    <tr>\n",
       "      <th>1</th>\n",
       "      <td>Survived</td>\n",
       "      <td>int64</td>\n",
       "    </tr>\n",
       "    <tr>\n",
       "      <th>2</th>\n",
       "      <td>Pclass</td>\n",
       "      <td>int64</td>\n",
       "    </tr>\n",
       "    <tr>\n",
       "      <th>3</th>\n",
       "      <td>Name</td>\n",
       "      <td>object</td>\n",
       "    </tr>\n",
       "    <tr>\n",
       "      <th>4</th>\n",
       "      <td>Sex</td>\n",
       "      <td>object</td>\n",
       "    </tr>\n",
       "    <tr>\n",
       "      <th>5</th>\n",
       "      <td>Age</td>\n",
       "      <td>float64</td>\n",
       "    </tr>\n",
       "    <tr>\n",
       "      <th>6</th>\n",
       "      <td>SibSp</td>\n",
       "      <td>int64</td>\n",
       "    </tr>\n",
       "    <tr>\n",
       "      <th>7</th>\n",
       "      <td>Parch</td>\n",
       "      <td>int64</td>\n",
       "    </tr>\n",
       "    <tr>\n",
       "      <th>8</th>\n",
       "      <td>Ticket</td>\n",
       "      <td>object</td>\n",
       "    </tr>\n",
       "    <tr>\n",
       "      <th>9</th>\n",
       "      <td>Fare</td>\n",
       "      <td>float64</td>\n",
       "    </tr>\n",
       "    <tr>\n",
       "      <th>10</th>\n",
       "      <td>Cabin</td>\n",
       "      <td>object</td>\n",
       "    </tr>\n",
       "    <tr>\n",
       "      <th>11</th>\n",
       "      <td>Embarked</td>\n",
       "      <td>object</td>\n",
       "    </tr>\n",
       "  </tbody>\n",
       "</table>\n",
       "</div>"
      ],
      "text/plain": [
       "          index        0\n",
       "0   PassengerId    int64\n",
       "1      Survived    int64\n",
       "2        Pclass    int64\n",
       "3          Name   object\n",
       "4           Sex   object\n",
       "5           Age  float64\n",
       "6         SibSp    int64\n",
       "7         Parch    int64\n",
       "8        Ticket   object\n",
       "9          Fare  float64\n",
       "10        Cabin   object\n",
       "11     Embarked   object"
      ]
     },
     "execution_count": 2,
     "metadata": {},
     "output_type": "execute_result"
    }
   ],
   "source": [
    "# Load training and testing datasets using pandas.read_csv() \n",
    "# train, test = pd.read_csv('../input/train.csv'), pd.read_csv('../input/test.csv')\n",
    "train, test = pd.read_csv('./data/train.csv'), pd.read_csv('./data/test.csv')\n",
    "\n",
    "# Print the shapes of both training and testing datasets\n",
    "print('Training Dataset: %s, Testing Dastaset: %s' %(str(train.shape), str(test.shape)))\n",
    "\n",
    "# Inspect column dtypes\n",
    "train.dtypes.reset_index()"
   ]
  },
  {
   "cell_type": "markdown",
   "metadata": {
    "_uuid": "627df9b1850555b015d94ceb9b346e7562a8f40a"
   },
   "source": [
    "## 1. Data Preparation"
   ]
  },
  {
   "cell_type": "markdown",
   "metadata": {
    "_uuid": "a2dc43679b71e133d8e9820b54d4ac816bde0e46"
   },
   "source": [
    "### Data Processing & Wrangling, Exploratory Data Analysis"
   ]
  },
  {
   "cell_type": "code",
   "execution_count": 3,
   "metadata": {
    "_uuid": "c443c3ee2a1279c14d32f5c8069e74528436d8e7"
   },
   "outputs": [],
   "source": [
    "# Define function to detect outliers using z scores\n",
    "def outliers_z_score(series, threshold=3):\n",
    "    outliers = list()\n",
    "    mean_, std_, threshold = np.mean(series), np.std(series), threshold\n",
    "    z_scores = [(elem - mean_) / std_ for elem in series]\n",
    "    return series[np.abs(z_scores) > threshold] "
   ]
  },
  {
   "cell_type": "markdown",
   "metadata": {
    "_uuid": "8d53565a4bcf042afbaa7b394d6288b5635865c1"
   },
   "source": [
    "#### Outliers\n",
    "* Using the z-score and storing the indices of rows that we should drop (`outlier_ind`), we can better improve our accuracy as outliers can affect our predictions."
   ]
  },
  {
   "cell_type": "code",
   "execution_count": 4,
   "metadata": {
    "_uuid": "c801b5b6f5aa7fb88c1da9be004015faea034d91"
   },
   "outputs": [],
   "source": [
    "# Detect potential outliers for each feature in our training dataset using z scores\n",
    "numeric_features = ['Age', 'SibSp', 'Parch', 'Fare']\n",
    "outlier_ind = list()\n",
    "for num_feature in numeric_features:\n",
    "    outliers = outliers_z_score(train[num_feature])\n",
    "    index_outliers = list(outliers.index)\n",
    "    outlier_ind += index_outliers"
   ]
  },
  {
   "cell_type": "code",
   "execution_count": 5,
   "metadata": {
    "_uuid": "ebe725e999f360d13a03660c12dadb3c3e2ff51c",
    "scrolled": false
   },
   "outputs": [
    {
     "data": {
      "text/html": [
       "<div>\n",
       "<style scoped>\n",
       "    .dataframe tbody tr th:only-of-type {\n",
       "        vertical-align: middle;\n",
       "    }\n",
       "\n",
       "    .dataframe tbody tr th {\n",
       "        vertical-align: top;\n",
       "    }\n",
       "\n",
       "    .dataframe thead th {\n",
       "        text-align: right;\n",
       "    }\n",
       "</style>\n",
       "<table border=\"1\" class=\"dataframe\">\n",
       "  <thead>\n",
       "    <tr style=\"text-align: right;\">\n",
       "      <th></th>\n",
       "      <th>Age</th>\n",
       "      <th>Cabin</th>\n",
       "      <th>Embarked</th>\n",
       "      <th>Fare</th>\n",
       "      <th>Name</th>\n",
       "      <th>Parch</th>\n",
       "      <th>PassengerId</th>\n",
       "      <th>Pclass</th>\n",
       "      <th>Sex</th>\n",
       "      <th>SibSp</th>\n",
       "      <th>Survived</th>\n",
       "      <th>Ticket</th>\n",
       "    </tr>\n",
       "  </thead>\n",
       "  <tbody>\n",
       "    <tr>\n",
       "      <th>0</th>\n",
       "      <td>22.0</td>\n",
       "      <td>NaN</td>\n",
       "      <td>S</td>\n",
       "      <td>7.2500</td>\n",
       "      <td>Braund, Mr. Owen Harris</td>\n",
       "      <td>0</td>\n",
       "      <td>1</td>\n",
       "      <td>3</td>\n",
       "      <td>male</td>\n",
       "      <td>1</td>\n",
       "      <td>0.0</td>\n",
       "      <td>A/5 21171</td>\n",
       "    </tr>\n",
       "    <tr>\n",
       "      <th>1</th>\n",
       "      <td>38.0</td>\n",
       "      <td>C85</td>\n",
       "      <td>C</td>\n",
       "      <td>71.2833</td>\n",
       "      <td>Cumings, Mrs. John Bradley (Florence Briggs Th...</td>\n",
       "      <td>0</td>\n",
       "      <td>2</td>\n",
       "      <td>1</td>\n",
       "      <td>female</td>\n",
       "      <td>1</td>\n",
       "      <td>1.0</td>\n",
       "      <td>PC 17599</td>\n",
       "    </tr>\n",
       "    <tr>\n",
       "      <th>2</th>\n",
       "      <td>26.0</td>\n",
       "      <td>NaN</td>\n",
       "      <td>S</td>\n",
       "      <td>7.9250</td>\n",
       "      <td>Heikkinen, Miss. Laina</td>\n",
       "      <td>0</td>\n",
       "      <td>3</td>\n",
       "      <td>3</td>\n",
       "      <td>female</td>\n",
       "      <td>0</td>\n",
       "      <td>1.0</td>\n",
       "      <td>STON/O2. 3101282</td>\n",
       "    </tr>\n",
       "    <tr>\n",
       "      <th>3</th>\n",
       "      <td>35.0</td>\n",
       "      <td>C123</td>\n",
       "      <td>S</td>\n",
       "      <td>53.1000</td>\n",
       "      <td>Futrelle, Mrs. Jacques Heath (Lily May Peel)</td>\n",
       "      <td>0</td>\n",
       "      <td>4</td>\n",
       "      <td>1</td>\n",
       "      <td>female</td>\n",
       "      <td>1</td>\n",
       "      <td>1.0</td>\n",
       "      <td>113803</td>\n",
       "    </tr>\n",
       "    <tr>\n",
       "      <th>4</th>\n",
       "      <td>35.0</td>\n",
       "      <td>NaN</td>\n",
       "      <td>S</td>\n",
       "      <td>8.0500</td>\n",
       "      <td>Allen, Mr. William Henry</td>\n",
       "      <td>0</td>\n",
       "      <td>5</td>\n",
       "      <td>3</td>\n",
       "      <td>male</td>\n",
       "      <td>0</td>\n",
       "      <td>0.0</td>\n",
       "      <td>373450</td>\n",
       "    </tr>\n",
       "  </tbody>\n",
       "</table>\n",
       "</div>"
      ],
      "text/plain": [
       "    Age Cabin Embarked     Fare  \\\n",
       "0  22.0   NaN        S   7.2500   \n",
       "1  38.0   C85        C  71.2833   \n",
       "2  26.0   NaN        S   7.9250   \n",
       "3  35.0  C123        S  53.1000   \n",
       "4  35.0   NaN        S   8.0500   \n",
       "\n",
       "                                                Name  Parch  PassengerId  \\\n",
       "0                            Braund, Mr. Owen Harris      0            1   \n",
       "1  Cumings, Mrs. John Bradley (Florence Briggs Th...      0            2   \n",
       "2                             Heikkinen, Miss. Laina      0            3   \n",
       "3       Futrelle, Mrs. Jacques Heath (Lily May Peel)      0            4   \n",
       "4                           Allen, Mr. William Henry      0            5   \n",
       "\n",
       "   Pclass     Sex  SibSp  Survived            Ticket  \n",
       "0       3    male      1       0.0         A/5 21171  \n",
       "1       1  female      1       1.0          PC 17599  \n",
       "2       3  female      0       1.0  STON/O2. 3101282  \n",
       "3       1  female      1       1.0            113803  \n",
       "4       3    male      0       0.0            373450  "
      ]
     },
     "execution_count": 5,
     "metadata": {},
     "output_type": "execute_result"
    }
   ],
   "source": [
    "train = train.drop(list(set(outlier_ind)), axis=0)  # Drop outliers via indices\n",
    "test_PassengerId = test['PassengerId']  # Store PassengerIds for testing dataset\n",
    "dataset = train.append(test)  # Concatenate training, testing datasets\n",
    "dataset = dataset.sort_values(by=['PassengerId']).reset_index(drop=True)\n",
    "dataset.head()"
   ]
  },
  {
   "cell_type": "code",
   "execution_count": 6,
   "metadata": {
    "_uuid": "430dea44a14c1fba913a13c110888640e410e98a"
   },
   "outputs": [
    {
     "data": {
      "text/plain": [
       "Age            254\n",
       "Cabin          966\n",
       "Embarked         2\n",
       "Fare             1\n",
       "Name             0\n",
       "Parch            0\n",
       "PassengerId      0\n",
       "Pclass           0\n",
       "Sex              0\n",
       "SibSp            0\n",
       "Survived       418\n",
       "Ticket           0\n",
       "dtype: int64"
      ]
     },
     "execution_count": 6,
     "metadata": {},
     "output_type": "execute_result"
    }
   ],
   "source": [
    "dataset = dataset.fillna(np.nan)  # Fill in empty values with NaN\n",
    "dataset.isnull().sum()  # See which columns have NaN values"
   ]
  },
  {
   "cell_type": "code",
   "execution_count": 7,
   "metadata": {
    "_uuid": "5ae8f233d170a91b5b99a365d08cb5782b63309f"
   },
   "outputs": [
    {
     "data": {
      "text/html": [
       "<div>\n",
       "<style scoped>\n",
       "    .dataframe tbody tr th:only-of-type {\n",
       "        vertical-align: middle;\n",
       "    }\n",
       "\n",
       "    .dataframe tbody tr th {\n",
       "        vertical-align: top;\n",
       "    }\n",
       "\n",
       "    .dataframe thead th {\n",
       "        text-align: right;\n",
       "    }\n",
       "</style>\n",
       "<table border=\"1\" class=\"dataframe\">\n",
       "  <thead>\n",
       "    <tr style=\"text-align: right;\">\n",
       "      <th></th>\n",
       "      <th>PassengerId</th>\n",
       "      <th>Survived</th>\n",
       "      <th>Pclass</th>\n",
       "      <th>Age</th>\n",
       "      <th>SibSp</th>\n",
       "      <th>Parch</th>\n",
       "      <th>Fare</th>\n",
       "    </tr>\n",
       "  </thead>\n",
       "  <tbody>\n",
       "    <tr>\n",
       "      <th>count</th>\n",
       "      <td>825.000000</td>\n",
       "      <td>825.000000</td>\n",
       "      <td>825.000000</td>\n",
       "      <td>657.000000</td>\n",
       "      <td>825.000000</td>\n",
       "      <td>825.000000</td>\n",
       "      <td>825.000000</td>\n",
       "    </tr>\n",
       "    <tr>\n",
       "      <th>mean</th>\n",
       "      <td>445.596364</td>\n",
       "      <td>0.387879</td>\n",
       "      <td>2.306667</td>\n",
       "      <td>30.126591</td>\n",
       "      <td>0.347879</td>\n",
       "      <td>0.254545</td>\n",
       "      <td>25.889661</td>\n",
       "    </tr>\n",
       "    <tr>\n",
       "      <th>std</th>\n",
       "      <td>255.327509</td>\n",
       "      <td>0.487562</td>\n",
       "      <td>0.828361</td>\n",
       "      <td>14.030821</td>\n",
       "      <td>0.618445</td>\n",
       "      <td>0.564467</td>\n",
       "      <td>29.792940</td>\n",
       "    </tr>\n",
       "    <tr>\n",
       "      <th>min</th>\n",
       "      <td>1.000000</td>\n",
       "      <td>0.000000</td>\n",
       "      <td>1.000000</td>\n",
       "      <td>0.420000</td>\n",
       "      <td>0.000000</td>\n",
       "      <td>0.000000</td>\n",
       "      <td>0.000000</td>\n",
       "    </tr>\n",
       "    <tr>\n",
       "      <th>25%</th>\n",
       "      <td>226.000000</td>\n",
       "      <td>0.000000</td>\n",
       "      <td>2.000000</td>\n",
       "      <td>21.000000</td>\n",
       "      <td>0.000000</td>\n",
       "      <td>0.000000</td>\n",
       "      <td>7.895800</td>\n",
       "    </tr>\n",
       "    <tr>\n",
       "      <th>50%</th>\n",
       "      <td>447.000000</td>\n",
       "      <td>0.000000</td>\n",
       "      <td>3.000000</td>\n",
       "      <td>28.500000</td>\n",
       "      <td>0.000000</td>\n",
       "      <td>0.000000</td>\n",
       "      <td>13.000000</td>\n",
       "    </tr>\n",
       "    <tr>\n",
       "      <th>75%</th>\n",
       "      <td>662.000000</td>\n",
       "      <td>1.000000</td>\n",
       "      <td>3.000000</td>\n",
       "      <td>38.000000</td>\n",
       "      <td>1.000000</td>\n",
       "      <td>0.000000</td>\n",
       "      <td>27.720800</td>\n",
       "    </tr>\n",
       "    <tr>\n",
       "      <th>max</th>\n",
       "      <td>891.000000</td>\n",
       "      <td>1.000000</td>\n",
       "      <td>3.000000</td>\n",
       "      <td>71.000000</td>\n",
       "      <td>3.000000</td>\n",
       "      <td>2.000000</td>\n",
       "      <td>164.866700</td>\n",
       "    </tr>\n",
       "  </tbody>\n",
       "</table>\n",
       "</div>"
      ],
      "text/plain": [
       "       PassengerId    Survived      Pclass         Age       SibSp  \\\n",
       "count   825.000000  825.000000  825.000000  657.000000  825.000000   \n",
       "mean    445.596364    0.387879    2.306667   30.126591    0.347879   \n",
       "std     255.327509    0.487562    0.828361   14.030821    0.618445   \n",
       "min       1.000000    0.000000    1.000000    0.420000    0.000000   \n",
       "25%     226.000000    0.000000    2.000000   21.000000    0.000000   \n",
       "50%     447.000000    0.000000    3.000000   28.500000    0.000000   \n",
       "75%     662.000000    1.000000    3.000000   38.000000    1.000000   \n",
       "max     891.000000    1.000000    3.000000   71.000000    3.000000   \n",
       "\n",
       "            Parch        Fare  \n",
       "count  825.000000  825.000000  \n",
       "mean     0.254545   25.889661  \n",
       "std      0.564467   29.792940  \n",
       "min      0.000000    0.000000  \n",
       "25%      0.000000    7.895800  \n",
       "50%      0.000000   13.000000  \n",
       "75%      0.000000   27.720800  \n",
       "max      2.000000  164.866700  "
      ]
     },
     "execution_count": 7,
     "metadata": {},
     "output_type": "execute_result"
    }
   ],
   "source": [
    "train.describe()"
   ]
  },
  {
   "cell_type": "markdown",
   "metadata": {
    "_uuid": "c27daa5bb9f2017b9379a4923ab434bf863c094d"
   },
   "source": [
    "#### Correlated Features \n",
    "* We can spot useful features that correlate with survival."
   ]
  },
  {
   "cell_type": "code",
   "execution_count": 8,
   "metadata": {
    "_uuid": "cd8eb95cb955a96eaf845ed950c6a8e1fb65f152"
   },
   "outputs": [
    {
     "data": {
      "image/png": "[encoded data removed]",
      "text/plain": [
       "<Figure size 432x288 with 2 Axes>"
      ]
     },
     "metadata": {
      "needs_background": "light"
     },
     "output_type": "display_data"
    }
   ],
   "source": [
    "sns.heatmap(train[['Survived', 'Fare', 'Parch', 'SibSp', 'Age']].corr(), \n",
    "            annot=True, fmt='.2f', cmap='autumn_r', square=True);"
   ]
  },
  {
   "cell_type": "markdown",
   "metadata": {
    "_uuid": "53f47baac40aab11d131b277de450d9b5c2c00a9"
   },
   "source": [
    "#### Siblings\n",
    "* Does the number of siblings \"influence\" the probability that the passenger will survive?"
   ]
  },
  {
   "cell_type": "code",
   "execution_count": 9,
   "metadata": {
    "_uuid": "3516e2dcb0c9eaf110f4503d6e1ba741d61f7b66"
   },
   "outputs": [
    {
     "data": {
      "image/png": "[encoded data removed]",
      "text/plain": [
       "<Figure size 360x360 with 1 Axes>"
      ]
     },
     "metadata": {},
     "output_type": "display_data"
    },
    {
     "data": {
      "image/png": "[encoded data removed]",
      "text/plain": [
       "<Figure size 432.85x360 with 1 Axes>"
      ]
     },
     "metadata": {},
     "output_type": "display_data"
    }
   ],
   "source": [
    "with sns.axes_style(style='ticks'):\n",
    "    g = sns.catplot('SibSp', 'Survived', data=train, kind='bar')\n",
    "    g.set_axis_labels('SibSp', 'Pr (Survived)')\n",
    "    g = sns.catplot('SibSp', 'Survived', 'Sex', data=train, kind='bar')\n",
    "    g.set_axis_labels('SibSp', 'Pr (Survived)');"
   ]
  },
  {
   "cell_type": "markdown",
   "metadata": {
    "_uuid": "963f7560583f34371b10f67936056e5c65a47f9c"
   },
   "source": [
    "* Perhaps! The gap in survival between male and females are more interesting, confirming \"***women and children first***.\" Let's continue to plot female vs. male for other features to confirm our suspicions."
   ]
  },
  {
   "cell_type": "code",
   "execution_count": 10,
   "metadata": {
    "_uuid": "f8b672dd1e2d106d722f30bcc46a72317eb37696"
   },
   "outputs": [
    {
     "data": {
      "image/png": "[encoded data removed]",
      "text/plain": [
       "<Figure size 360x360 with 1 Axes>"
      ]
     },
     "metadata": {},
     "output_type": "display_data"
    },
    {
     "data": {
      "image/png": "[encoded data removed]",
      "text/plain": [
       "<Figure size 432.85x360 with 1 Axes>"
      ]
     },
     "metadata": {},
     "output_type": "display_data"
    }
   ],
   "source": [
    "with sns.axes_style(style='ticks'):\n",
    "    g = sns.catplot('Parch', 'Survived', data=train, kind='bar')\n",
    "    g.set_axis_labels('Parch', 'Pr (Survived)')\n",
    "    g = sns.catplot('Parch', 'Survived', 'Sex', data=train, kind='bar')\n",
    "    g.set_axis_labels('Parch', 'Pr (Survived)');"
   ]
  },
  {
   "cell_type": "markdown",
   "metadata": {
    "_uuid": "0ba2d71d60baf35188eec0b820d9ede038fac8ff"
   },
   "source": [
    "#### Passenger Class\n",
    "* Does the passenger class feature (`Pclass`) show any interesting choices in survivors?"
   ]
  },
  {
   "cell_type": "code",
   "execution_count": 11,
   "metadata": {
    "_uuid": "0a380d7e6efcf6a92ff62fff4ed6e16c4b4485a8"
   },
   "outputs": [
    {
     "data": {
      "image/png": "[encoded data removed]",
      "text/plain": [
       "<Figure size 432x288 with 1 Axes>"
      ]
     },
     "metadata": {
      "needs_background": "light"
     },
     "output_type": "display_data"
    },
    {
     "data": {
      "image/png": "[encoded data removed]",
      "text/plain": [
       "<Figure size 432x288 with 1 Axes>"
      ]
     },
     "metadata": {
      "needs_background": "light"
     },
     "output_type": "display_data"
    }
   ],
   "source": [
    "# Compare number of dead versus survived\n",
    "survivors = train[train['Survived'] == 1]['Pclass'].value_counts()\n",
    "dead = train[train['Survived'] == 0]['Pclass'].value_counts()\n",
    "df_survival_pclass = pd.DataFrame([survivors, dead])\n",
    "df_survival_pclass.index = ['Dead', 'Survived']\n",
    "df_survival_pclass.plot(kind='bar', stacked=True, title='Survival Based on by Passenger Class')\n",
    "train['Dead'] = 1 - train['Survived']\n",
    "train.groupby('Sex').agg('sum')[['Survived', 'Dead']].plot(kind='bar', stacked=True, color=['g', 'r'], title='Survival Based on by Sex');"
   ]
  },
  {
   "cell_type": "markdown",
   "metadata": {
    "_uuid": "eca68e5e8e949b7da408e2a001407be507aa70f6"
   },
   "source": [
    "* It turns out, 1st class passengers seem to have an affinity for survival. Of course, the female vs. male graph is exactly what we expected: high female survival."
   ]
  },
  {
   "cell_type": "markdown",
   "metadata": {
    "_uuid": "2675c5aabbbccc1b2708902aa4d48134a3738784"
   },
   "source": [
    "#### Age Distributions"
   ]
  },
  {
   "cell_type": "code",
   "execution_count": 12,
   "metadata": {
    "_uuid": "8c7c329f6481ce9755a7b8db16fd6792e7879537"
   },
   "outputs": [
    {
     "data": {
      "image/png": "[encoded data removed]",
      "text/plain": [
       "<Figure size 432x216 with 2 Axes>"
      ]
     },
     "metadata": {
      "needs_background": "light"
     },
     "output_type": "display_data"
    }
   ],
   "source": [
    "g = sns.FacetGrid(train, col='Survived')\n",
    "g.map(sns.distplot, 'Age');"
   ]
  },
  {
   "cell_type": "code",
   "execution_count": 13,
   "metadata": {
    "_uuid": "4e12bd6575d5252d7075255c913da42e98867e7d"
   },
   "outputs": [
    {
     "data": {
      "image/png": "[encoded data removed]",
      "text/plain": [
       "<Figure size 360x360 with 1 Axes>"
      ]
     },
     "metadata": {},
     "output_type": "display_data"
    }
   ],
   "source": [
    "with sns.axes_style(style='ticks'):\n",
    "    g = sns.catplot(x='Survived', y='Age', data=train, kind='box')\n",
    "    g.set_axis_labels('Age', 'Pr (Survived)');"
   ]
  },
  {
   "cell_type": "markdown",
   "metadata": {
    "_uuid": "f81f1e02cc90e20e40a17bafdd52e60ffa729178"
   },
   "source": [
    "### Feature Engineering & Scaling, Feature Selection"
   ]
  },
  {
   "cell_type": "code",
   "execution_count": 14,
   "metadata": {
    "_uuid": "da62a2498a56798806f0778514c5076d4af8afaf"
   },
   "outputs": [
    {
     "name": "stdout",
     "output_type": "stream",
     "text": [
      "Training Dataset: (825, 13)\n",
      "Testing Dataset: (418, 11)\n",
      "Complete Dataset: (1243, 12)\n"
     ]
    }
   ],
   "source": [
    "print('Training Dataset:', train.shape)\n",
    "print('Testing Dataset:', test.shape)\n",
    "print('Complete Dataset:', dataset.shape)"
   ]
  },
  {
   "cell_type": "code",
   "execution_count": 15,
   "metadata": {
    "_uuid": "6b83f2e6e6a752fd78a8b9616195cdeef9288347"
   },
   "outputs": [],
   "source": [
    "# Fill in NaN values using the median\n",
    "dataset['Fare'] = dataset['Fare'].fillna(dataset['Fare'].median())\n",
    "dataset['Embarked'] = dataset['Embarked'].fillna('S')\n",
    "\n",
    "# Fill in NaN values for 'Age' with similar group's median age or overall median\n",
    "nan_age_index = list(dataset['Age'][dataset['Age'].isnull()].index)\n",
    "for i in nan_age_index:\n",
    "    age_similar = dataset['Age'][(dataset['SibSp'] == dataset.loc[i]['SibSp']) & \n",
    "                   (dataset['Parch'] == dataset.loc[i]['Parch']) & \n",
    "                   (dataset['Pclass'] == dataset.loc[i]['Pclass'])].median()\n",
    "    age_median = dataset['Age'].median()\n",
    "    \n",
    "    if not np.isnan(age_similar):\n",
    "         dataset['Age'].loc[i] = age_similar\n",
    "    else:\n",
    "        dataset['Age'].loc[i] = age_median\n",
    "        \n",
    "train['Fare'], test['Fare'] = dataset['Fare'][:825], dataset['Fare'][825:]\n",
    "train['Embarked'], test['Embarked'] = dataset['Embarked'][:825], dataset['Embarked'][825:]\n",
    "train['Age'], test['Age'] = dataset['Age'][:825], dataset['Age'][825:]"
   ]
  },
  {
   "cell_type": "markdown",
   "metadata": {
    "_uuid": "648fe1d32199fa6b54eb057d31ad53d323b13768"
   },
   "source": [
    "#### Family Size\n",
    "* We can use family size to try to better predict survival."
   ]
  },
  {
   "cell_type": "code",
   "execution_count": 16,
   "metadata": {
    "_uuid": "cf56e1b7ed0eb2481c955208679b1714db2c4815"
   },
   "outputs": [],
   "source": [
    "# Determine the family size based on 'Parch' and 'SibSp'\n",
    "dataset['FamilySize'] = dataset['Parch'] + dataset['SibSp']\n",
    "\n",
    "# Assign calculated family sizes to individual training, testing datasets\n",
    "train['FamilySize'] = dataset['FamilySize'][:825]\n",
    "test['FamilySize'] = dataset['FamilySize'][825:]"
   ]
  },
  {
   "cell_type": "markdown",
   "metadata": {
    "_uuid": "ac208e112563596a7faabfdaf77e4414da88552a"
   },
   "source": [
    "#### Family Survival\n",
    "*  From [S.Xu's kernel](https://www.kaggle.com/shunjiangxu/blood-is-thicker-than-water-friendship-forever), we can group families and people with the same tickets togerher and researches the info."
   ]
  },
  {
   "cell_type": "code",
   "execution_count": 17,
   "metadata": {
    "_uuid": "c9ea8bcad5a9549f2ab2496a650793e093184ec1"
   },
   "outputs": [],
   "source": [
    "dataset['LastName'] = dataset['Name'].apply(lambda x: str.split(x, \",\")[0])  # Get last name from 'Name'\n",
    "DEFAULT_SURVIVAL_VALUE = 0.5\n",
    "data_df['FamilySurvival'] = DEFAULT_SURVIVAL_VALUE"
   ]
  },
  {
   "cell_type": "code",
   "execution_count": null,
   "metadata": {
    "_uuid": "50bcaad061426bf3608f412d75e2008d2b8de9de"
   },
   "outputs": [],
   "source": [
    "encoder_embarked, encoder_sex = LabelEncoder(), LabelEncoder()\n",
    "\n",
    "encoder_embarked.fit(dataset['Embarked'])\n",
    "encoder_sex.fit(dataset['Sex'])\n",
    "\n",
    "dataset['Embarked'] = encoder_embarked.transform(dataset['Embarked'])\n",
    "dataset['Sex'] = encoder_sex.transform(dataset['Sex'])"
   ]
  },
  {
   "cell_type": "code",
   "execution_count": null,
   "metadata": {
    "_uuid": "3fc72e71f92f539784eb07d59c3827352b9c304c"
   },
   "outputs": [],
   "source": [
    "# Combine 'SibSp' and 'Parch' => 'Relatives'\n",
    "dataset['Relatives'] = dataset['SibSp'] + dataset['Parch']"
   ]
  },
  {
   "cell_type": "code",
   "execution_count": null,
   "metadata": {
    "_uuid": "ae4a0f04563d8e2f22ebb0cd5a3d63ce4b3a764c"
   },
   "outputs": [],
   "source": [
    "g = sns.catplot(x='Relatives', y='Survived', data=dataset, kind='point')\n",
    "g.set_axis_labels('Relatives', 'Pr (Survived)');"
   ]
  },
  {
   "cell_type": "code",
   "execution_count": null,
   "metadata": {
    "_uuid": "40240ece1a4ff45accce40b5ec686ae609259d6c"
   },
   "outputs": [],
   "source": [
    "dataset['Pclass'] = dataset['Pclass'].astype('category')\n",
    "dataset = pd.get_dummies(dataset, columns = ['Pclass'], prefix='Pc')"
   ]
  },
  {
   "cell_type": "code",
   "execution_count": null,
   "metadata": {
    "_uuid": "b7ccd5f1e528b762e1f3636fb10e1c672508177e"
   },
   "outputs": [],
   "source": [
    "scaler_age, scaler_age = StandardScaler(), StandardScaler()\n",
    "dataset['Age'] = scaler_age.fit_transform(np.array(dataset['Age']).reshape(-1, 1))\n",
    "dataset['Fare'] = scaler_age.fit_transform(np.array(dataset['Fare']).reshape(-1, 1))"
   ]
  },
  {
   "cell_type": "code",
   "execution_count": null,
   "metadata": {
    "_uuid": "b764cb4f28db6b6c3dc646eddb86550f6dc0f480"
   },
   "outputs": [],
   "source": [
    "features = ['Age', 'Embarked', 'Fare', 'Parch', 'Sex', \n",
    "            'SibSp', 'Relatives', 'Pc_1', 'Pc_2', 'Pc_3']"
   ]
  },
  {
   "cell_type": "markdown",
   "metadata": {
    "_uuid": "ff095f64f82b6d22543b4198913a6173c973cdc1"
   },
   "source": [
    "## 2. Modeling"
   ]
  },
  {
   "cell_type": "markdown",
   "metadata": {
    "_uuid": "c89b03dbce17ccd27090e782e2432f80dbc86b30"
   },
   "source": [
    "### Model Selection"
   ]
  },
  {
   "cell_type": "code",
   "execution_count": null,
   "metadata": {
    "_uuid": "19216302f261d9b34158d22b278941fe3b3f9cff"
   },
   "outputs": [],
   "source": [
    "train = dataset[dataset['PassengerId'].isin(train_PassengerId)]\n",
    "test = dataset[dataset['PassengerId'].isin(test_PassengerId)]"
   ]
  },
  {
   "cell_type": "code",
   "execution_count": null,
   "metadata": {
    "_uuid": "19216302f261d9b34158d22b278941fe3b3f9cff"
   },
   "outputs": [],
   "source": [
    "train['Survived'] = train['Survived'].astype(int)\n",
    "test.drop(labels=['Survived'], axis=1,inplace=True)\n",
    "train, test, train_survived = train[features], test[features], train['Survived']\n",
    "X_train, y_train = train.values, train_survived.values\n",
    "X_test = test.values"
   ]
  },
  {
   "cell_type": "code",
   "execution_count": null,
   "metadata": {
    "_uuid": "a5096491dad2836f125161d0791bea0f931da1c6"
   },
   "outputs": [],
   "source": [
    "kfold = StratifiedKFold(n_splits=10)\n",
    "estimators = [AdaBoostClassifier(DecisionTreeClassifier(), learning_rate=0.1),\n",
    "              DecisionTreeClassifier(), ExtraTreesClassifier(), GradientBoostingClassifier(),\n",
    "              KNeighborsClassifier(), LinearDiscriminantAnalysis(), LogisticRegression(),\n",
    "              MLPClassifier(), RandomForestClassifier(), SVC(), XGBClassifier()]\n",
    "\n",
    "classifiers = list()\n",
    "for est in estimators:\n",
    "    classifiers.append(est)"
   ]
  },
  {
   "cell_type": "code",
   "execution_count": null,
   "metadata": {
    "_uuid": "a9979ea2bc9c43e005268c9f24c1058e4c30f88a"
   },
   "outputs": [],
   "source": [
    "%%capture\n",
    "cross_val_results = []\n",
    "for classifier in classifiers :\n",
    "    cross_val_results.append(cross_val_score(classifier, X_train, y_train, \n",
    "                                             scoring='accuracy', cv=kfold))\n",
    "    \n",
    "cross_val_means, cross_val_stds = [], []\n",
    "for cv_result in cross_val_results:\n",
    "    cross_val_means.append(cv_result.mean())\n",
    "    cross_val_stds.append(cv_result.std())\n",
    "    \n",
    "df_cv = pd.DataFrame({'CrossValMeans':cross_val_means,\n",
    "                      'CrossValErrors': cross_val_stds,\n",
    "                      'Algorithms':['AdaBoost', 'DecisionTree', 'ExtraTrees', 'GradientBoosting',\n",
    "                                    'KNeighboors', 'LinearDiscriminantAnalysis', 'LogisticRegression',\n",
    "                                    'MultipleLayerPerceptron', 'RandomForest', 'SVC', 'XGBClassifier']})"
   ]
  },
  {
   "cell_type": "code",
   "execution_count": null,
   "metadata": {
    "_uuid": "ee2e5465366eefbb707e56178eafb5f9e32aa07f"
   },
   "outputs": [],
   "source": [
    "g = sns.barplot('CrossValMeans', 'Algorithms', data=df_cv, \n",
    "                palette='Set3', orient='h', **{'xerr':cross_val_stds})\n",
    "g.set_xlabel('Mean Accuracy')\n",
    "g.set_title('Cross Validation Scores');"
   ]
  },
  {
   "cell_type": "code",
   "execution_count": null,
   "metadata": {
    "_uuid": "68917bc24dfc6dc66d374fb1d3fea37c6ec05232"
   },
   "outputs": [],
   "source": [
    "possible_models = df_cv.sort_values(by=['CrossValMeans'], ascending=False).reset_index(drop=True)\n",
    "print(possible_models)"
   ]
  },
  {
   "cell_type": "markdown",
   "metadata": {
    "_uuid": "2d7ab73f44df59bbef0e7142d6d1392262638c2e"
   },
   "source": [
    "### Model Evaluation and Tuning"
   ]
  },
  {
   "cell_type": "code",
   "execution_count": null,
   "metadata": {
    "_uuid": "041f276c92ac2a7cd6a3588fea4cf81c2d07161b"
   },
   "outputs": [],
   "source": [
    "estimator_scores = dict()"
   ]
  },
  {
   "cell_type": "code",
   "execution_count": null,
   "metadata": {
    "_uuid": "4f5c2f5f2d23d722975950da6940af0f4a07ff08"
   },
   "outputs": [],
   "source": [
    "# AdaBoost Classifier\n",
    "dec_tree_est = DecisionTreeClassifier()\n",
    "clf_AdaBoost_DTC = AdaBoostClassifier(dec_tree_est)\n",
    "\n",
    "parameters_ada_tree = {\n",
    "    'algorithm': ['SAMME', 'SAMME.R'],\n",
    "    'base_estimator__criterion': ['gini', 'entropy'],\n",
    "    'base_estimator__splitter': ['best', 'random'],\n",
    "    'learning_rate': [0.0001, 0.001, 0.01, 0.1, 0.2],\n",
    "    'n_estimators': [1, 2]\n",
    "}\n",
    "\n",
    "clf_ada_tree = GridSearchCV(clf_AdaBoost_DTC, parameters_ada_tree, cv=kfold, scoring='accuracy', n_jobs=-1)\n",
    "clf_ada_tree.fit(X_train, y_train)\n",
    "\n",
    "clf_ada_tree_best = clf_ada_tree.best_estimator_\n",
    "estimator_scores[clf_ada_tree.best_score_] = clf_ada_tree_best\n",
    "print('Best score: ', clf_ada_tree.best_score_)\n",
    "print('Best params: ', clf_ada_tree.best_params_);"
   ]
  },
  {
   "cell_type": "code",
   "execution_count": null,
   "metadata": {
    "_uuid": "89c6ace152f6317d21967038aedcfeeb177775e5"
   },
   "outputs": [],
   "source": [
    "# Extra Trees Classifier\n",
    "clf_ExtraTrees = ExtraTreesClassifier()\n",
    "\n",
    "parameters_extra_trees = {\n",
    "    'bootstrap': [False],\n",
    "    'criterion': ['gini'],\n",
    "    'max_features': [1, 3, 10],\n",
    "    'min_samples_leaf': np.linspace(0.1, 0.5, 4),\n",
    "    'n_estimators': [300],\n",
    "    'max_depth': [None]\n",
    "}\n",
    "\n",
    "clf_extra_trees = GridSearchCV(clf_ExtraTrees, parameters_extra_trees, cv=kfold, scoring='accuracy', n_jobs=-1)\n",
    "clf_extra_trees.fit(X_train, y_train)\n",
    "\n",
    "clf_extra_trees_best = clf_extra_trees.best_estimator_\n",
    "estimator_scores[clf_extra_trees.best_score_] = clf_extra_trees_best\n",
    "print('Best score: ', clf_extra_trees.best_score_)\n",
    "print('Best params: ', clf_extra_trees.best_params_);"
   ]
  },
  {
   "cell_type": "code",
   "execution_count": null,
   "metadata": {
    "_uuid": "fa41ef37aa22dab9b175aaba185b283e80e6c0a7"
   },
   "outputs": [],
   "source": [
    "# Gradient Boosting Classifier\n",
    "clf_GradientBoost = GradientBoostingClassifier()\n",
    "\n",
    "parameters_gradient_boost = {\n",
    "    'learning_rate': [0.01, 0.05, 0.1, 0.15, 0.2],\n",
    "    'loss': ['deviance'],\n",
    "    'max_depth': [3, 5, 8],\n",
    "    'max_features': ['log2', 'sqrt'],\n",
    "    'n_estimators': [300]\n",
    "}\n",
    "\n",
    "clf_gradient_boost = GridSearchCV(clf_GradientBoost, parameters_gradient_boost, cv=kfold, scoring='accuracy', n_jobs=-1)\n",
    "clf_gradient_boost.fit(X_train, y_train)\n",
    "\n",
    "clf_gradient_boost_best = clf_gradient_boost.best_estimator_\n",
    "estimator_scores[clf_gradient_boost.best_score_] = clf_gradient_boost_best\n",
    "print('Best score: ', clf_gradient_boost.best_score_)\n",
    "print('Best params: ', clf_gradient_boost.best_params_);"
   ]
  },
  {
   "cell_type": "code",
   "execution_count": null,
   "metadata": {
    "_uuid": "7bbff8383e372b2d5a15c00cc4bcd24cdfc8d5f0"
   },
   "outputs": [],
   "source": [
    "# Multiple Layer Perceptron Classifier\n",
    "clf_MLP = MLPClassifier()\n",
    "\n",
    "parameters_MLP = {\n",
    "    'alpha': [1e-2, 1e-3, 1e-4],\n",
    "    'max_iter': np.arange(1000, 2001, 500),\n",
    "    'hidden_layer_sizes': [10],\n",
    "    'solver': ['lbfgs']\n",
    "}\n",
    "\n",
    "clf_mlp = GridSearchCV(clf_MLP, parameters_MLP, cv=kfold, scoring='accuracy', n_jobs=-1)\n",
    "clf_mlp.fit(X_train, y_train)\n",
    "\n",
    "clf_mlp_best = clf_mlp.best_estimator_\n",
    "estimator_scores[clf_mlp.best_score_] = clf_mlp_best\n",
    "print('Best score: ', clf_mlp.best_score_)\n",
    "print('Best params: ', clf_mlp.best_params_);"
   ]
  },
  {
   "cell_type": "code",
   "execution_count": null,
   "metadata": {
    "_uuid": "bcb12703d8e4cfc458dfbb77ba952bba9cf7f048"
   },
   "outputs": [],
   "source": [
    "%%capture\n",
    "# XG Boost Classifier\n",
    "clf_XGBoost = XGBClassifier()\n",
    "\n",
    "parameters_xg_boost = {\n",
    "    'gamma': [0.5, 1, 1.5, 2, 5],\n",
    "    'learning_rate': [0.01, 0.1, 0.2],\n",
    "    'n_estimators': [300],\n",
    "    'subsample': [0.6, 0.8, 1.0],\n",
    "}\n",
    "\n",
    "clf_xg_boost = GridSearchCV(clf_XGBoost, parameters_xg_boost, cv=kfold, scoring='accuracy', n_jobs=-1)\n",
    "clf_xg_boost.fit(X_train, y_train)\n",
    "\n",
    "clf_xg_boost_best = clf_xg_boost.best_estimator_\n",
    "estimator_scores[clf_xg_boost.best_score_] = clf_xg_boost_best"
   ]
  },
  {
   "cell_type": "code",
   "execution_count": null,
   "metadata": {
    "_uuid": "867e9e922107a4fa99453eb829f77bc834cfb8a2"
   },
   "outputs": [],
   "source": [
    "print('Best score: ', clf_xg_boost.best_score_);\n",
    "print('Best params: ', clf_xg_boost.best_params_);"
   ]
  },
  {
   "cell_type": "code",
   "execution_count": null,
   "metadata": {
    "_uuid": "6173aa31aab22dd59138b87c33a77ec12fa87a75"
   },
   "outputs": [],
   "source": [
    "best_score = max(estimator_scores.keys())\n",
    "best_classifier = estimator_scores[best_score]\n",
    "\n",
    "print(best_classifier);"
   ]
  },
  {
   "cell_type": "markdown",
   "metadata": {
    "_uuid": "85470422e85637399db8e2270a65b951a83bd51a"
   },
   "source": [
    "## 3. Deployment & Prediction"
   ]
  },
  {
   "cell_type": "code",
   "execution_count": null,
   "metadata": {
    "_uuid": "bcb72047461fce427554bc1e9d68832eac90c44c"
   },
   "outputs": [],
   "source": [
    "y_pred = best_classifier.predict(X_test)\n",
    "test['PassengerId'], test['Survived'] = test_PassengerId.values, y_pred\n",
    "result = test[['PassengerId', 'Survived']]\n",
    "result.to_csv('titanic_predictions.csv', index=False);"
   ]
  }
 ],
 "metadata": {
  "hide_input": false,
  "kernelspec": {
   "display_name": "Python 3",
   "language": "python",
   "name": "python3"
  },
  "language_info": {
   "codemirror_mode": {
    "name": "ipython",
    "version": 3
   },
   "file_extension": ".py",
   "mimetype": "text/x-python",
   "name": "python",
   "nbconvert_exporter": "python",
   "pygments_lexer": "ipython3",
   "version": "3.6.8"
  }
 },
 "nbformat": 4,
 "nbformat_minor": 1
}
