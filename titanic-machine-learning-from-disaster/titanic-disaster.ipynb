{
  "cells": [
    {
      "metadata": {
        "trusted": true,
        "_uuid": "acefd0b3bc3ab2ebb7206b7a5b91365e37924afd",
        "collapsed": true
      },
      "cell_type": "code",
      "source": "from IPython.core.display import HTML\nHTML(\"\"\"\n<style>\n.output_png {\n    display: table-cell;\n    text-align: center;\n    vertical-align: middle;}\n</style>\n\"\"\");",
      "execution_count": null,
      "outputs": []
    },
    {
      "metadata": {
        "trusted": true,
        "_uuid": "25967e0b1fbdf861c3df609e215b47f329dd0d85"
      },
      "cell_type": "code",
      "source": "from sklearn.metrics import mean_absolute_error\nfrom xgboost import XGBRegressor\nimport matplotlib as mpl\nimport matplotlib.pyplot as plt\nimport numpy as np\nimport pandas as pd\nimport seaborn as sns\n\nimport os\nprint(os.listdir(\"../input\"))\n\nimport warnings\nwarnings.filterwarnings('ignore')\n\n%matplotlib inline\nmpl.style.use('ggplot')\nsns.set_style('white')\nplt.rcParams['figure.figsize'] = (12, 9)",
      "execution_count": null,
      "outputs": []
    },
    {
      "metadata": {
        "trusted": true,
        "_uuid": "ffdf3cd7ca6fe516a498d903989eeb8556c33843"
      },
      "cell_type": "code",
      "source": "# Load and preview datasets \ntrain_dataset, test_dataset = pd.read_csv('../input/train.csv'), pd.read_csv('../input/test.csv')\nprint('Training Dataset: %s, Testing Dataset: %s' %(str(train_dataset.shape), str(test_dataset.shape)))\ntrain_dataset.head()\ntrain_dataset.dtypes.reset_index()",
      "execution_count": null,
      "outputs": []
    },
    {
      "metadata": {
        "_uuid": "f6d594ac0102c59a1ef71164b9a90293df590944"
      },
      "cell_type": "markdown",
      "source": "# Exploratory Data Analysis"
    },
    {
      "metadata": {
        "trusted": true,
        "_uuid": "4d5ff1487f8ac830b4aa892ca293f444f43f8094"
      },
      "cell_type": "code",
      "source": "survivors = train_dataset[train_dataset['Survived'] == 1]['Pclass'].value_counts()\ndead = train_dataset[train_dataset['Survived'] == 0]['Pclass'].value_counts()\n\ndf_survival_pclass = pd.DataFrame([survivors, dead])\ndf_survival_pclass.index = ['Dead', 'Survived']\ndf_survival_pclass.plot(kind='bar', stacked=True, title='Passengers Dead and Survived by Passenger Classes');",
      "execution_count": null,
      "outputs": []
    },
    {
      "metadata": {
        "trusted": true,
        "_uuid": "05c2ce8eabebb2e59130af87755a4a72481864c2"
      },
      "cell_type": "code",
      "source": "train_dataset['Dead'] = 1 - train_dataset['Survived']\ntrain_dataset.groupby('Sex').agg('sum')[['Survived', 'Dead']].plot(kind='bar', stacked=True, colors=['g', 'r']);",
      "execution_count": null,
      "outputs": []
    },
    {
      "metadata": {
        "trusted": true,
        "_uuid": "0947ea234bcbca10e76d54ee880fa70a950696bd"
      },
      "cell_type": "code",
      "source": "def null_check(train_dataset, test_dataset):\n    print(\"Training Dataset:\")\n    print(train_dataset.isnull().sum())\n    \n    print(\"\\nTesting Dataset:\")\n    print(test_dataset.isnull().sum())\n\nnull_check(train_dataset, test_dataset)",
      "execution_count": null,
      "outputs": []
    },
    {
      "metadata": {
        "_uuid": "98a166a07fa0e2173f573ef6d1a01b36c9123936"
      },
      "cell_type": "markdown",
      "source": "# Data Wrangling, Feature Selection"
    },
    {
      "metadata": {
        "trusted": true,
        "_uuid": "93d21b91aeb38a25794b08da9339cf8dbe166dfa"
      },
      "cell_type": "code",
      "source": "# Replace NaN values in the column 'Age' with the median value \ntrain_dataset['Age'] = train_dataset['Age'].fillna(train_dataset['Age'].median())\ntest_dataset['Age'] = test_dataset['Age'].fillna(test_dataset['Age'].median())\n# training[\"Age\"].fillna(training[\"Age\"].median(), inplace = True)\n# testing[\"Age\"].fillna(testing[\"Age\"].median(), inplace = True) \n\n# Apply same concept as above\ntrain_dataset[\"Embarked\"].fillna(\"S\", inplace = True)\ntrain_dataset[\"Fare\"].fillna(train_dataset[\"Fare\"].median(), inplace = True)\ntest_dataset[\"Fare\"].fillna(test_dataset[\"Fare\"].median(), inplace = True)\n\n# Drop columns 'Cabin' and 'Ticket' since they contain a lot of noise\ntrain_dataset.drop(labels = [\"Cabin\", \"Ticket\"], axis = 1, inplace = True)\ntest_dataset.drop(labels = [\"Cabin\", \"Ticket\"], axis = 1, inplace = True)\n\nnull_check(train_dataset, test_dataset)",
      "execution_count": null,
      "outputs": []
    },
    {
      "metadata": {
        "trusted": true,
        "_uuid": "9a433d152b59969ef8ebd5a406f987c3b19e2356"
      },
      "cell_type": "code",
      "source": "sns.barplot(x='Sex', y='Survived', data=train_dataset, capsize=.2)\nplt.title('Survival Based on Gender')\nplt.show()",
      "execution_count": null,
      "outputs": []
    },
    {
      "metadata": {
        "trusted": true,
        "collapsed": true,
        "_uuid": "51ff8b1f5a7d3f3a11dc1c67e8110131165a314a"
      },
      "cell_type": "code",
      "source": "",
      "execution_count": null,
      "outputs": []
    }
  ],
  "metadata": {
    "kernelspec": {
      "display_name": "Python 3",
      "language": "python",
      "name": "python3"
    },
    "language_info": {
      "name": "python",
      "version": "3.6.4",
      "mimetype": "text/x-python",
      "codemirror_mode": {
        "name": "ipython",
        "version": 3
      },
      "pygments_lexer": "ipython3",
      "nbconvert_exporter": "python",
      "file_extension": ".py"
    }
  },
  "nbformat": 4,
  "nbformat_minor": 1
}